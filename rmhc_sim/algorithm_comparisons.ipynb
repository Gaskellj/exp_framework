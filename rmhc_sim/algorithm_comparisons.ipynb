{
 "cells": [
  {
   "cell_type": "markdown",
   "metadata": {},
   "source": [
    "# Comparisons between algorithms for optimizing robot movement in evogym\n",
    "\n",
    "\n",
    "## RMHC\n",
    "\n",
    "## CMA-ES"
   ]
  }
 ],
 "metadata": {
  "language_info": {
   "name": "python"
  }
 },
 "nbformat": 4,
 "nbformat_minor": 2
}
